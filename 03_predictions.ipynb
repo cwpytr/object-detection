{
 "cells": [
  {
   "cell_type": "markdown",
   "id": "1267a067",
   "metadata": {},
   "source": [
    "## Object Detection"
   ]
  },
  {
   "cell_type": "code",
   "execution_count": 2,
   "id": "be40458e",
   "metadata": {},
   "outputs": [],
   "source": [
    "import cv2\n",
    "from yolo_predictions import YOLO_pred"
   ]
  },
  {
   "cell_type": "code",
   "execution_count": 3,
   "id": "ae94ae5e",
   "metadata": {},
   "outputs": [],
   "source": [
    "yolo = YOLO_pred('E:/my_project/YOLO/yolov5/runs/train/Model8/weights/best.onnx', 'data.yaml')"
   ]
  },
  {
   "cell_type": "code",
   "execution_count": 6,
   "id": "a292445d",
   "metadata": {},
   "outputs": [],
   "source": [
    "img = cv2.imread('E:/my_project/YOLO/street_image.jpg')\n",
    "\n",
    "cv2.imshow('img', img)\n",
    "cv2.waitKey(0)\n",
    "cv2.destroyAllWindows()"
   ]
  },
  {
   "cell_type": "code",
   "execution_count": 7,
   "id": "97ed5356",
   "metadata": {},
   "outputs": [],
   "source": [
    "#predictions\n",
    "img_pred = yolo.predictions(img)"
   ]
  },
  {
   "cell_type": "code",
   "execution_count": 8,
   "id": "c81dba89",
   "metadata": {},
   "outputs": [],
   "source": [
    "cv2.imshow('prediction_img', img_pred)\n",
    "cv2.waitKey(0)\n",
    "cv2.destroyAllWindows()"
   ]
  },
  {
   "cell_type": "markdown",
   "id": "1873762b",
   "metadata": {},
   "source": [
    "## Real Time Object Detection"
   ]
  },
  {
   "cell_type": "code",
   "execution_count": 4,
   "id": "16a76ec3",
   "metadata": {},
   "outputs": [],
   "source": [
    "import time\n",
    "import cv2\n",
    "\n",
    "target_fps = 30\n",
    "frame_time = 1.0 / target_fps  # Target frame duration in seconds\n",
    "\n",
    "cap = cv2.VideoCapture(0)\n",
    "\n",
    "while True:\n",
    "    start = time.time()\n",
    "\n",
    "    ret, frame = cap.read()\n",
    "    if not ret:\n",
    "        print(\"Video ended or can't read frame.\")\n",
    "        break\n",
    "\n",
    "    pred_image = yolo.predictions(frame)\n",
    "\n",
    "    cv2.imshow('YOLO', pred_image)\n",
    "    elapsed = time.time() - start\n",
    "    sleep_time = max(0, frame_time - elapsed)\n",
    "    time.sleep(sleep_time)\n",
    "\n",
    "    if cv2.waitKey(1) & 0xFF == 27:  # ESC to quit\n",
    "        break\n",
    "\n",
    "cap.release()\n",
    "cv2.destroyAllWindows()"
   ]
  }
 ],
 "metadata": {
  "kernelspec": {
   "display_name": "tf",
   "language": "python",
   "name": "python3"
  },
  "language_info": {
   "codemirror_mode": {
    "name": "ipython",
    "version": 3
   },
   "file_extension": ".py",
   "mimetype": "text/x-python",
   "name": "python",
   "nbconvert_exporter": "python",
   "pygments_lexer": "ipython3",
   "version": "3.10.0"
  }
 },
 "nbformat": 4,
 "nbformat_minor": 5
}
