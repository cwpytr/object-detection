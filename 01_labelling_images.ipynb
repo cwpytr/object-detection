{
 "cells": [
  {
   "cell_type": "markdown",
   "id": "267bf13d",
   "metadata": {},
   "source": [
    "## Labeling images"
   ]
  },
  {
   "cell_type": "code",
   "execution_count": 1,
   "id": "da5e9439",
   "metadata": {},
   "outputs": [
    {
     "name": "stdout",
     "output_type": "stream",
     "text": [
      "Requirement already satisfied: pyqt5 in e:\\my_project\\object detection\\venv\\lib\\site-packages (5.15.11)\n",
      "Requirement already satisfied: lxml in e:\\my_project\\object detection\\venv\\lib\\site-packages (6.0.0)\n",
      "Requirement already satisfied: PyQt5-sip<13,>=12.15 in e:\\my_project\\object detection\\venv\\lib\\site-packages (from pyqt5) (12.17.0)\n",
      "Requirement already satisfied: PyQt5-Qt5<5.16.0,>=5.15.2 in e:\\my_project\\object detection\\venv\\lib\\site-packages (from pyqt5) (5.15.2)\n"
     ]
    }
   ],
   "source": [
    "!pip install --upgrade pyqt5 lxml"
   ]
  },
  {
   "cell_type": "code",
   "execution_count": 2,
   "id": "0b6e6dc4",
   "metadata": {},
   "outputs": [
    {
     "name": "stderr",
     "output_type": "stream",
     "text": [
      "Cloning into 'labelImg'...\n"
     ]
    }
   ],
   "source": [
    "!mkdir labelImg\n",
    "!git clone https://github.com/tzutalin/labelImg labelImg"
   ]
  },
  {
   "cell_type": "code",
   "execution_count": 2,
   "id": "18941db6",
   "metadata": {},
   "outputs": [],
   "source": [
    "!cd labelImg && pyrcc5 -o libs/resources.py resources.qrc"
   ]
  },
  {
   "cell_type": "code",
   "execution_count": 3,
   "id": "61b4254c",
   "metadata": {},
   "outputs": [],
   "source": [
    "!cd labelImg && python labelImg.py"
   ]
  },
  {
   "cell_type": "markdown",
   "id": "348842f4",
   "metadata": {},
   "source": [
    "## Extract text from xml"
   ]
  },
  {
   "cell_type": "code",
   "execution_count": 4,
   "id": "dec027f0",
   "metadata": {},
   "outputs": [],
   "source": [
    "import os\n",
    "from glob import glob\n",
    "import pandas as pd\n",
    "from functools import reduce\n",
    "from xml.etree import ElementTree as et"
   ]
  },
  {
   "cell_type": "code",
   "execution_count": 5,
   "id": "3a8c70be",
   "metadata": {},
   "outputs": [],
   "source": [
    "# load all xml files and store in a list\n",
    "xml_list = glob('./data_images/*.xml')\n",
    "\n",
    "# replace \\\\ with /\n",
    "xml_list = list(map(lambda x: x.replace('\\\\','/'), xml_list))"
   ]
  },
  {
   "cell_type": "code",
   "execution_count": 6,
   "id": "a3af0b49",
   "metadata": {},
   "outputs": [],
   "source": [
    "def extract_text(filename):\n",
    "    # read xml files\n",
    "    tree = et.parse(filename)\n",
    "    root = tree.getroot()\n",
    "\n",
    "    # extract filename\n",
    "    image_name = root.find('filename').text\n",
    "\n",
    "    # width and height of the image\n",
    "    width = root.find('size').find('width').text\n",
    "    height = root.find('size').find('height').text\n",
    "\n",
    "    objs = root.findall('object')\n",
    "    parser = []\n",
    "    for obj in objs:\n",
    "        name = obj.find('name').text\n",
    "        bndbox = obj.find('bndbox')\n",
    "        xmin = bndbox.find('xmin').text\n",
    "        xmax = bndbox.find('xmax').text\n",
    "        ymin = bndbox.find('ymin').text\n",
    "        ymax = bndbox.find('ymax').text\n",
    "        parser.append([image_name, width, height, name, xmin, xmax, ymin, ymax])\n",
    "    \n",
    "    return parser"
   ]
  },
  {
   "cell_type": "code",
   "execution_count": 7,
   "id": "572a1bec",
   "metadata": {},
   "outputs": [],
   "source": [
    "parser_all = list(map(extract_text, xml_list))"
   ]
  },
  {
   "cell_type": "code",
   "execution_count": 8,
   "id": "c87e189b",
   "metadata": {},
   "outputs": [],
   "source": [
    "data = reduce(lambda x, y: x + y, parser_all)"
   ]
  },
  {
   "cell_type": "code",
   "execution_count": 9,
   "id": "49da8560",
   "metadata": {},
   "outputs": [],
   "source": [
    "df = pd.DataFrame(data, columns = ['filename', 'width', 'height', 'name', 'xmin', 'xmax', 'ymin', 'ymax'])"
   ]
  },
  {
   "cell_type": "code",
   "execution_count": 10,
   "id": "db8567fd",
   "metadata": {},
   "outputs": [
    {
     "data": {
      "text/html": [
       "<div>\n",
       "<style scoped>\n",
       "    .dataframe tbody tr th:only-of-type {\n",
       "        vertical-align: middle;\n",
       "    }\n",
       "\n",
       "    .dataframe tbody tr th {\n",
       "        vertical-align: top;\n",
       "    }\n",
       "\n",
       "    .dataframe thead th {\n",
       "        text-align: right;\n",
       "    }\n",
       "</style>\n",
       "<table border=\"1\" class=\"dataframe\">\n",
       "  <thead>\n",
       "    <tr style=\"text-align: right;\">\n",
       "      <th></th>\n",
       "      <th>filename</th>\n",
       "      <th>width</th>\n",
       "      <th>height</th>\n",
       "      <th>name</th>\n",
       "      <th>xmin</th>\n",
       "      <th>xmax</th>\n",
       "      <th>ymin</th>\n",
       "      <th>ymax</th>\n",
       "    </tr>\n",
       "  </thead>\n",
       "  <tbody>\n",
       "    <tr>\n",
       "      <th>0</th>\n",
       "      <td>alvan-nee-1VgfQdCuX-4-unsplash.jpg</td>\n",
       "      <td>1851</td>\n",
       "      <td>2780</td>\n",
       "      <td>dog</td>\n",
       "      <td>371</td>\n",
       "      <td>903</td>\n",
       "      <td>1317</td>\n",
       "      <td>2603</td>\n",
       "    </tr>\n",
       "    <tr>\n",
       "      <th>1</th>\n",
       "      <td>alvan-nee-1VgfQdCuX-4-unsplash.jpg</td>\n",
       "      <td>1851</td>\n",
       "      <td>2780</td>\n",
       "      <td>dog</td>\n",
       "      <td>862</td>\n",
       "      <td>1539</td>\n",
       "      <td>1226</td>\n",
       "      <td>2594</td>\n",
       "    </tr>\n",
       "    <tr>\n",
       "      <th>2</th>\n",
       "      <td>alvan-nee-eoqnr8ikwFE-unsplash.jpg</td>\n",
       "      <td>2744</td>\n",
       "      <td>4049</td>\n",
       "      <td>dog</td>\n",
       "      <td>398</td>\n",
       "      <td>2258</td>\n",
       "      <td>1024</td>\n",
       "      <td>3664</td>\n",
       "    </tr>\n",
       "    <tr>\n",
       "      <th>3</th>\n",
       "      <td>alvan-nee-T-0EW-SEbsE-unsplash.jpg</td>\n",
       "      <td>5784</td>\n",
       "      <td>3861</td>\n",
       "      <td>dog</td>\n",
       "      <td>1152</td>\n",
       "      <td>2538</td>\n",
       "      <td>817</td>\n",
       "      <td>3277</td>\n",
       "    </tr>\n",
       "    <tr>\n",
       "      <th>4</th>\n",
       "      <td>alvan-nee-T-0EW-SEbsE-unsplash.jpg</td>\n",
       "      <td>5784</td>\n",
       "      <td>3861</td>\n",
       "      <td>dog</td>\n",
       "      <td>2878</td>\n",
       "      <td>4705</td>\n",
       "      <td>484</td>\n",
       "      <td>3861</td>\n",
       "    </tr>\n",
       "  </tbody>\n",
       "</table>\n",
       "</div>"
      ],
      "text/plain": [
       "                             filename width height name  xmin  xmax  ymin  \\\n",
       "0  alvan-nee-1VgfQdCuX-4-unsplash.jpg  1851   2780  dog   371   903  1317   \n",
       "1  alvan-nee-1VgfQdCuX-4-unsplash.jpg  1851   2780  dog   862  1539  1226   \n",
       "2  alvan-nee-eoqnr8ikwFE-unsplash.jpg  2744   4049  dog   398  2258  1024   \n",
       "3  alvan-nee-T-0EW-SEbsE-unsplash.jpg  5784   3861  dog  1152  2538   817   \n",
       "4  alvan-nee-T-0EW-SEbsE-unsplash.jpg  5784   3861  dog  2878  4705   484   \n",
       "\n",
       "   ymax  \n",
       "0  2603  \n",
       "1  2594  \n",
       "2  3664  \n",
       "3  3277  \n",
       "4  3861  "
      ]
     },
     "execution_count": 10,
     "metadata": {},
     "output_type": "execute_result"
    }
   ],
   "source": [
    "df.head()"
   ]
  },
  {
   "cell_type": "code",
   "execution_count": 11,
   "id": "efe02fd9",
   "metadata": {},
   "outputs": [
    {
     "data": {
      "text/plain": [
       "name\n",
       "person    17\n",
       "dog       11\n",
       "bus        7\n",
       "car        7\n",
       "bike       7\n",
       "plane      4\n",
       "sofa       3\n",
       "chair      2\n",
       "Name: count, dtype: int64"
      ]
     },
     "execution_count": 11,
     "metadata": {},
     "output_type": "execute_result"
    }
   ],
   "source": [
    "df['name'].value_counts()"
   ]
  },
  {
   "cell_type": "code",
   "execution_count": 12,
   "id": "a2965742",
   "metadata": {},
   "outputs": [
    {
     "name": "stdout",
     "output_type": "stream",
     "text": [
      "<class 'pandas.core.frame.DataFrame'>\n",
      "RangeIndex: 58 entries, 0 to 57\n",
      "Data columns (total 8 columns):\n",
      " #   Column    Non-Null Count  Dtype \n",
      "---  ------    --------------  ----- \n",
      " 0   filename  58 non-null     object\n",
      " 1   width     58 non-null     object\n",
      " 2   height    58 non-null     object\n",
      " 3   name      58 non-null     object\n",
      " 4   xmin      58 non-null     object\n",
      " 5   xmax      58 non-null     object\n",
      " 6   ymin      58 non-null     object\n",
      " 7   ymax      58 non-null     object\n",
      "dtypes: object(8)\n",
      "memory usage: 3.8+ KB\n"
     ]
    }
   ],
   "source": [
    "df.info()"
   ]
  },
  {
   "cell_type": "code",
   "execution_count": 13,
   "id": "7e63d587",
   "metadata": {},
   "outputs": [
    {
     "name": "stdout",
     "output_type": "stream",
     "text": [
      "<class 'pandas.core.frame.DataFrame'>\n",
      "RangeIndex: 58 entries, 0 to 57\n",
      "Data columns (total 8 columns):\n",
      " #   Column    Non-Null Count  Dtype \n",
      "---  ------    --------------  ----- \n",
      " 0   filename  58 non-null     object\n",
      " 1   width     58 non-null     int64 \n",
      " 2   height    58 non-null     int64 \n",
      " 3   name      58 non-null     object\n",
      " 4   xmin      58 non-null     int64 \n",
      " 5   xmax      58 non-null     int64 \n",
      " 6   ymin      58 non-null     int64 \n",
      " 7   ymax      58 non-null     int64 \n",
      "dtypes: int64(6), object(2)\n",
      "memory usage: 3.8+ KB\n"
     ]
    }
   ],
   "source": [
    "# type conversion\n",
    "cols = ['width', 'height', 'xmin', 'xmax', 'ymin', 'ymax']\n",
    "df[cols] = df[cols].astype(int)\n",
    "df.info()"
   ]
  },
  {
   "cell_type": "code",
   "execution_count": 14,
   "id": "2c5c54c9",
   "metadata": {},
   "outputs": [],
   "source": [
    "# center x, center y\n",
    "df['center_x'] = ((df['xmax'] + df['xmin']) / 2) / df['width']\n",
    "df['center_y'] = ((df['ymax'] + df['ymin']) / 2) / df['height']\n",
    "\n",
    "# width, height\n",
    "df['w'] = (df['xmax'] - df['xmin']) / df['width']\n",
    "df['h'] = (df['ymax'] - df['ymin']) / df['height']"
   ]
  },
  {
   "cell_type": "code",
   "execution_count": 15,
   "id": "d6c50e48",
   "metadata": {},
   "outputs": [
    {
     "data": {
      "text/html": [
       "<div>\n",
       "<style scoped>\n",
       "    .dataframe tbody tr th:only-of-type {\n",
       "        vertical-align: middle;\n",
       "    }\n",
       "\n",
       "    .dataframe tbody tr th {\n",
       "        vertical-align: top;\n",
       "    }\n",
       "\n",
       "    .dataframe thead th {\n",
       "        text-align: right;\n",
       "    }\n",
       "</style>\n",
       "<table border=\"1\" class=\"dataframe\">\n",
       "  <thead>\n",
       "    <tr style=\"text-align: right;\">\n",
       "      <th></th>\n",
       "      <th>filename</th>\n",
       "      <th>width</th>\n",
       "      <th>height</th>\n",
       "      <th>name</th>\n",
       "      <th>xmin</th>\n",
       "      <th>xmax</th>\n",
       "      <th>ymin</th>\n",
       "      <th>ymax</th>\n",
       "      <th>center_x</th>\n",
       "      <th>center_y</th>\n",
       "      <th>w</th>\n",
       "      <th>h</th>\n",
       "    </tr>\n",
       "  </thead>\n",
       "  <tbody>\n",
       "    <tr>\n",
       "      <th>0</th>\n",
       "      <td>alvan-nee-1VgfQdCuX-4-unsplash.jpg</td>\n",
       "      <td>1851</td>\n",
       "      <td>2780</td>\n",
       "      <td>dog</td>\n",
       "      <td>371</td>\n",
       "      <td>903</td>\n",
       "      <td>1317</td>\n",
       "      <td>2603</td>\n",
       "      <td>0.344138</td>\n",
       "      <td>0.705036</td>\n",
       "      <td>0.287412</td>\n",
       "      <td>0.462590</td>\n",
       "    </tr>\n",
       "    <tr>\n",
       "      <th>1</th>\n",
       "      <td>alvan-nee-1VgfQdCuX-4-unsplash.jpg</td>\n",
       "      <td>1851</td>\n",
       "      <td>2780</td>\n",
       "      <td>dog</td>\n",
       "      <td>862</td>\n",
       "      <td>1539</td>\n",
       "      <td>1226</td>\n",
       "      <td>2594</td>\n",
       "      <td>0.648568</td>\n",
       "      <td>0.687050</td>\n",
       "      <td>0.365748</td>\n",
       "      <td>0.492086</td>\n",
       "    </tr>\n",
       "    <tr>\n",
       "      <th>2</th>\n",
       "      <td>alvan-nee-eoqnr8ikwFE-unsplash.jpg</td>\n",
       "      <td>2744</td>\n",
       "      <td>4049</td>\n",
       "      <td>dog</td>\n",
       "      <td>398</td>\n",
       "      <td>2258</td>\n",
       "      <td>1024</td>\n",
       "      <td>3664</td>\n",
       "      <td>0.483965</td>\n",
       "      <td>0.578908</td>\n",
       "      <td>0.677843</td>\n",
       "      <td>0.652013</td>\n",
       "    </tr>\n",
       "    <tr>\n",
       "      <th>3</th>\n",
       "      <td>alvan-nee-T-0EW-SEbsE-unsplash.jpg</td>\n",
       "      <td>5784</td>\n",
       "      <td>3861</td>\n",
       "      <td>dog</td>\n",
       "      <td>1152</td>\n",
       "      <td>2538</td>\n",
       "      <td>817</td>\n",
       "      <td>3277</td>\n",
       "      <td>0.318983</td>\n",
       "      <td>0.530174</td>\n",
       "      <td>0.239627</td>\n",
       "      <td>0.637141</td>\n",
       "    </tr>\n",
       "    <tr>\n",
       "      <th>4</th>\n",
       "      <td>alvan-nee-T-0EW-SEbsE-unsplash.jpg</td>\n",
       "      <td>5784</td>\n",
       "      <td>3861</td>\n",
       "      <td>dog</td>\n",
       "      <td>2878</td>\n",
       "      <td>4705</td>\n",
       "      <td>484</td>\n",
       "      <td>3861</td>\n",
       "      <td>0.655515</td>\n",
       "      <td>0.562678</td>\n",
       "      <td>0.315871</td>\n",
       "      <td>0.874644</td>\n",
       "    </tr>\n",
       "  </tbody>\n",
       "</table>\n",
       "</div>"
      ],
      "text/plain": [
       "                             filename  width  height name  xmin  xmax  ymin  \\\n",
       "0  alvan-nee-1VgfQdCuX-4-unsplash.jpg   1851    2780  dog   371   903  1317   \n",
       "1  alvan-nee-1VgfQdCuX-4-unsplash.jpg   1851    2780  dog   862  1539  1226   \n",
       "2  alvan-nee-eoqnr8ikwFE-unsplash.jpg   2744    4049  dog   398  2258  1024   \n",
       "3  alvan-nee-T-0EW-SEbsE-unsplash.jpg   5784    3861  dog  1152  2538   817   \n",
       "4  alvan-nee-T-0EW-SEbsE-unsplash.jpg   5784    3861  dog  2878  4705   484   \n",
       "\n",
       "   ymax  center_x  center_y         w         h  \n",
       "0  2603  0.344138  0.705036  0.287412  0.462590  \n",
       "1  2594  0.648568  0.687050  0.365748  0.492086  \n",
       "2  3664  0.483965  0.578908  0.677843  0.652013  \n",
       "3  3277  0.318983  0.530174  0.239627  0.637141  \n",
       "4  3861  0.655515  0.562678  0.315871  0.874644  "
      ]
     },
     "execution_count": 15,
     "metadata": {},
     "output_type": "execute_result"
    }
   ],
   "source": [
    "df.head()"
   ]
  },
  {
   "cell_type": "markdown",
   "id": "a25c7e27",
   "metadata": {},
   "source": [
    "## Split data"
   ]
  },
  {
   "cell_type": "code",
   "execution_count": 16,
   "id": "6182ef92",
   "metadata": {},
   "outputs": [],
   "source": [
    "unique_files = df['filename'].unique()"
   ]
  },
  {
   "cell_type": "code",
   "execution_count": 18,
   "id": "eeb1cc76",
   "metadata": {},
   "outputs": [],
   "source": [
    "from sklearn.model_selection import train_test_split\n",
    "\n",
    "train_name, test_name = train_test_split(unique_files, test_size = 0.2, random_state=42)"
   ]
  },
  {
   "cell_type": "code",
   "execution_count": 19,
   "id": "eb5b37ac",
   "metadata": {},
   "outputs": [],
   "source": [
    "train_df = df[df['filename'].isin(train_name)]\n",
    "test_df = df[df['filename'].isin(test_name)]"
   ]
  },
  {
   "cell_type": "markdown",
   "id": "db57a774",
   "metadata": {},
   "source": [
    "## Assign ID number to objects"
   ]
  },
  {
   "cell_type": "code",
   "execution_count": 20,
   "id": "cf06028a",
   "metadata": {},
   "outputs": [],
   "source": [
    "# label encoding\n",
    "def label_encoding(x):\n",
    "    labels = {\n",
    "        \"person\": 0,\n",
    "        \"car\" : 1,\n",
    "        \"chair\": 2,\n",
    "        \"bottle\": 3,\n",
    "        \"pottedplant\": 4,\n",
    "        \"bird\": 5,\n",
    "        \"dog\": 6,\n",
    "        \"sofa\": 7,\n",
    "        \"bike\": 8,\n",
    "        \"horse\": 9,\n",
    "        \"boat\": 10,\n",
    "        \"motorbike\": 11,\n",
    "        \"cat\": 12,\n",
    "        \"television\": 13,\n",
    "        \"cow\": 14,\n",
    "        \"sheep\": 15,\n",
    "        \"plane\": 16,\n",
    "        \"train\": 17,\n",
    "        \"table\": 18,\n",
    "        \"bus\":19\n",
    "    }\n",
    "    return labels[x]"
   ]
  },
  {
   "cell_type": "code",
   "execution_count": 21,
   "id": "c2980c6a",
   "metadata": {},
   "outputs": [
    {
     "name": "stderr",
     "output_type": "stream",
     "text": [
      "C:\\Users\\apo09\\AppData\\Local\\Temp\\ipykernel_13088\\3116627190.py:1: SettingWithCopyWarning: \n",
      "A value is trying to be set on a copy of a slice from a DataFrame.\n",
      "Try using .loc[row_indexer,col_indexer] = value instead\n",
      "\n",
      "See the caveats in the documentation: https://pandas.pydata.org/pandas-docs/stable/user_guide/indexing.html#returning-a-view-versus-a-copy\n",
      "  train_df['id'] = train_df['name'].apply(label_encoding)\n",
      "C:\\Users\\apo09\\AppData\\Local\\Temp\\ipykernel_13088\\3116627190.py:2: SettingWithCopyWarning: \n",
      "A value is trying to be set on a copy of a slice from a DataFrame.\n",
      "Try using .loc[row_indexer,col_indexer] = value instead\n",
      "\n",
      "See the caveats in the documentation: https://pandas.pydata.org/pandas-docs/stable/user_guide/indexing.html#returning-a-view-versus-a-copy\n",
      "  test_df['id'] = test_df['name'].apply(label_encoding)\n"
     ]
    }
   ],
   "source": [
    "train_df['id'] = train_df['name'].apply(label_encoding)\n",
    "test_df['id'] = test_df['name'].apply(label_encoding)"
   ]
  },
  {
   "cell_type": "code",
   "execution_count": 22,
   "id": "bb64f635",
   "metadata": {},
   "outputs": [
    {
     "data": {
      "text/html": [
       "<div>\n",
       "<style scoped>\n",
       "    .dataframe tbody tr th:only-of-type {\n",
       "        vertical-align: middle;\n",
       "    }\n",
       "\n",
       "    .dataframe tbody tr th {\n",
       "        vertical-align: top;\n",
       "    }\n",
       "\n",
       "    .dataframe thead th {\n",
       "        text-align: right;\n",
       "    }\n",
       "</style>\n",
       "<table border=\"1\" class=\"dataframe\">\n",
       "  <thead>\n",
       "    <tr style=\"text-align: right;\">\n",
       "      <th></th>\n",
       "      <th>filename</th>\n",
       "      <th>width</th>\n",
       "      <th>height</th>\n",
       "      <th>name</th>\n",
       "      <th>xmin</th>\n",
       "      <th>xmax</th>\n",
       "      <th>ymin</th>\n",
       "      <th>ymax</th>\n",
       "      <th>center_x</th>\n",
       "      <th>center_y</th>\n",
       "      <th>w</th>\n",
       "      <th>h</th>\n",
       "      <th>id</th>\n",
       "    </tr>\n",
       "  </thead>\n",
       "  <tbody>\n",
       "    <tr>\n",
       "      <th>0</th>\n",
       "      <td>alvan-nee-1VgfQdCuX-4-unsplash.jpg</td>\n",
       "      <td>1851</td>\n",
       "      <td>2780</td>\n",
       "      <td>dog</td>\n",
       "      <td>371</td>\n",
       "      <td>903</td>\n",
       "      <td>1317</td>\n",
       "      <td>2603</td>\n",
       "      <td>0.344138</td>\n",
       "      <td>0.705036</td>\n",
       "      <td>0.287412</td>\n",
       "      <td>0.462590</td>\n",
       "      <td>6</td>\n",
       "    </tr>\n",
       "    <tr>\n",
       "      <th>1</th>\n",
       "      <td>alvan-nee-1VgfQdCuX-4-unsplash.jpg</td>\n",
       "      <td>1851</td>\n",
       "      <td>2780</td>\n",
       "      <td>dog</td>\n",
       "      <td>862</td>\n",
       "      <td>1539</td>\n",
       "      <td>1226</td>\n",
       "      <td>2594</td>\n",
       "      <td>0.648568</td>\n",
       "      <td>0.687050</td>\n",
       "      <td>0.365748</td>\n",
       "      <td>0.492086</td>\n",
       "      <td>6</td>\n",
       "    </tr>\n",
       "    <tr>\n",
       "      <th>2</th>\n",
       "      <td>alvan-nee-eoqnr8ikwFE-unsplash.jpg</td>\n",
       "      <td>2744</td>\n",
       "      <td>4049</td>\n",
       "      <td>dog</td>\n",
       "      <td>398</td>\n",
       "      <td>2258</td>\n",
       "      <td>1024</td>\n",
       "      <td>3664</td>\n",
       "      <td>0.483965</td>\n",
       "      <td>0.578908</td>\n",
       "      <td>0.677843</td>\n",
       "      <td>0.652013</td>\n",
       "      <td>6</td>\n",
       "    </tr>\n",
       "    <tr>\n",
       "      <th>3</th>\n",
       "      <td>alvan-nee-T-0EW-SEbsE-unsplash.jpg</td>\n",
       "      <td>5784</td>\n",
       "      <td>3861</td>\n",
       "      <td>dog</td>\n",
       "      <td>1152</td>\n",
       "      <td>2538</td>\n",
       "      <td>817</td>\n",
       "      <td>3277</td>\n",
       "      <td>0.318983</td>\n",
       "      <td>0.530174</td>\n",
       "      <td>0.239627</td>\n",
       "      <td>0.637141</td>\n",
       "      <td>6</td>\n",
       "    </tr>\n",
       "    <tr>\n",
       "      <th>4</th>\n",
       "      <td>alvan-nee-T-0EW-SEbsE-unsplash.jpg</td>\n",
       "      <td>5784</td>\n",
       "      <td>3861</td>\n",
       "      <td>dog</td>\n",
       "      <td>2878</td>\n",
       "      <td>4705</td>\n",
       "      <td>484</td>\n",
       "      <td>3861</td>\n",
       "      <td>0.655515</td>\n",
       "      <td>0.562678</td>\n",
       "      <td>0.315871</td>\n",
       "      <td>0.874644</td>\n",
       "      <td>6</td>\n",
       "    </tr>\n",
       "  </tbody>\n",
       "</table>\n",
       "</div>"
      ],
      "text/plain": [
       "                             filename  width  height name  xmin  xmax  ymin  \\\n",
       "0  alvan-nee-1VgfQdCuX-4-unsplash.jpg   1851    2780  dog   371   903  1317   \n",
       "1  alvan-nee-1VgfQdCuX-4-unsplash.jpg   1851    2780  dog   862  1539  1226   \n",
       "2  alvan-nee-eoqnr8ikwFE-unsplash.jpg   2744    4049  dog   398  2258  1024   \n",
       "3  alvan-nee-T-0EW-SEbsE-unsplash.jpg   5784    3861  dog  1152  2538   817   \n",
       "4  alvan-nee-T-0EW-SEbsE-unsplash.jpg   5784    3861  dog  2878  4705   484   \n",
       "\n",
       "   ymax  center_x  center_y         w         h  id  \n",
       "0  2603  0.344138  0.705036  0.287412  0.462590   6  \n",
       "1  2594  0.648568  0.687050  0.365748  0.492086   6  \n",
       "2  3664  0.483965  0.578908  0.677843  0.652013   6  \n",
       "3  3277  0.318983  0.530174  0.239627  0.637141   6  \n",
       "4  3861  0.655515  0.562678  0.315871  0.874644   6  "
      ]
     },
     "execution_count": 22,
     "metadata": {},
     "output_type": "execute_result"
    }
   ],
   "source": [
    "train_df.head()"
   ]
  },
  {
   "cell_type": "markdown",
   "id": "d30456f3",
   "metadata": {},
   "source": [
    "## Save Image and Labels in Text"
   ]
  },
  {
   "cell_type": "code",
   "execution_count": 41,
   "id": "644ec281",
   "metadata": {},
   "outputs": [],
   "source": [
    "import os\n",
    "from shutil import move"
   ]
  },
  {
   "cell_type": "code",
   "execution_count": null,
   "id": "c3f8b992",
   "metadata": {},
   "outputs": [],
   "source": [
    "train_folder = 'data_images/train'\n",
    "test_folder = 'data_images/test'\n",
    "\n",
    "os.mkdir(train_folder)\n",
    "os.mkdir(test_folder)"
   ]
  },
  {
   "cell_type": "code",
   "execution_count": 51,
   "id": "422f9e03",
   "metadata": {},
   "outputs": [],
   "source": [
    "cols = ['filename', 'id', 'center_x', 'center_y', 'w', 'h']\n",
    "groupby_obj_train = train_df[cols].groupby('filename')\n",
    "groupby_obj_test  = test_df[cols].groupby('filename')"
   ]
  },
  {
   "cell_type": "code",
   "execution_count": null,
   "id": "ded7829f",
   "metadata": {},
   "outputs": [],
   "source": [
    "def save_data(filename, folder_path, group_obj):\n",
    "    # move images\n",
    "    src = os.path.join('images', filename)\n",
    "    dst = os.path.join(folder_path, filename)\n",
    "    move(src, dst)\n",
    "\n",
    "    # save the labels\n",
    "    text_filename = os.path.join(folder_path, \n",
    "                                 os.path.splitext(filename)[0] + '.txt')\n",
    "    group_obj.get_group(filename).set_index('filename').to_csv(text_filename, index=False, sep=' ', header=False)"
   ]
  },
  {
   "cell_type": "code",
   "execution_count": null,
   "id": "8afe5e99",
   "metadata": {},
   "outputs": [],
   "source": [
    "filename_series_train = pd.Series(groupby_obj_train.groups.keys())\n",
    "filename_series_train.apply(save_data, args=(train_folder, groupby_obj_train))"
   ]
  },
  {
   "cell_type": "code",
   "execution_count": 56,
   "id": "390c0010",
   "metadata": {},
   "outputs": [
    {
     "data": {
      "text/plain": [
       "0    None\n",
       "1    None\n",
       "2    None\n",
       "3    None\n",
       "4    None\n",
       "5    None\n",
       "6    None\n",
       "7    None\n",
       "dtype: object"
      ]
     },
     "execution_count": 56,
     "metadata": {},
     "output_type": "execute_result"
    }
   ],
   "source": [
    "filename_series_test = pd.Series(groupby_obj_test.groups.keys())\n",
    "filename_series_test.apply(save_data, args=(test_folder, groupby_obj_test))"
   ]
  }
 ],
 "metadata": {
  "kernelspec": {
   "display_name": "venv",
   "language": "python",
   "name": "python3"
  },
  "language_info": {
   "codemirror_mode": {
    "name": "ipython",
    "version": 3
   },
   "file_extension": ".py",
   "mimetype": "text/x-python",
   "name": "python",
   "nbconvert_exporter": "python",
   "pygments_lexer": "ipython3",
   "version": "3.10.0"
  }
 },
 "nbformat": 4,
 "nbformat_minor": 5
}
