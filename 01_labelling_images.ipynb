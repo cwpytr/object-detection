{
 "cells": [
  {
   "cell_type": "markdown",
   "id": "dd7da7a5",
   "metadata": {},
   "source": [
    "\n",
    "# Labelling Image to Train YOLO\n",
    "***0) Set Images Path***\n",
    "\n",
    "***1) Split raw images into train/val sets***\n",
    "\n",
    "***2) Labelling Images***\n",
    "\n",
    "- ***A) Manual labeling (recommended for custom objects):***\n",
    "\n",
    "    - Use `labelImg` to draw boxes and save YOLO TXT files.\n",
    "\n",
    "- ***B) Assisted labeling (faster for common objects):***\n",
    "\n",
    "    - Use a pretrained `yolov8n.pt` (COCO) to create **pseudo-labels** you can then correct in `labelImg`.\n",
    "\n",
    "***3) Write a `data.yaml`***\n",
    "```\n",
    "data/\n",
    "├─ images/{train,val}\n",
    "└─ labels/{train,val}\n",
    "```"
   ]
  },
  {
   "cell_type": "markdown",
   "id": "53c9baf5",
   "metadata": {},
   "source": [
    "## 0) Set Images Path"
   ]
  },
  {
   "cell_type": "code",
   "execution_count": null,
   "id": "c3f228b3",
   "metadata": {},
   "outputs": [
    {
     "name": "stdout",
     "output_type": "stream",
     "text": [
      "RAW_IMAGES_DIR: E:\\my_project\\Object Detection\\raw_images\n",
      "DATA_ROOT: E:\\my_project\\Object Detection\\data\n",
      "Classes: ['person', 'car', 'bicycle', 'airplane', 'dog', 'chair', 'bus']\n"
     ]
    }
   ],
   "source": [
    "\n",
    "from pathlib import Path\n",
    "import os, shutil, random, yaml\n",
    "\n",
    "RAW_IMAGES_DIR = Path(\"raw_images\")  # folder containing ONLY your unlabeled images\n",
    "DATA_ROOT = Path(\"data\")             # where we will create YOLO folders\n",
    "NAMES = [\"person\", \"car\", \"bicycle\", \"airplane\", \"dog\", \"chair\", \"bus\"]                  # your target class names, e.g., [\"helmet\", \"vest\"]\n",
    "\n",
    "# Create folder structure\n",
    "(IMAGES_TRAIN := DATA_ROOT/\"images\"/\"train\").mkdir(parents=True, exist_ok=True)\n",
    "(IMAGES_VAL := DATA_ROOT/\"images\"/\"val\").mkdir(parents=True, exist_ok=True)\n",
    "(LABELS_TRAIN := DATA_ROOT/\"labels\"/\"train\").mkdir(parents=True, exist_ok=True)\n",
    "(LABELS_VAL := DATA_ROOT/\"labels\"/\"val\").mkdir(parents=True, exist_ok=True)\n",
    "\n",
    "print(\"RAW_IMAGES_DIR:\", RAW_IMAGES_DIR.resolve())\n",
    "print(\"DATA_ROOT:\", DATA_ROOT.resolve())\n",
    "print(\"Classes:\", NAMES)"
   ]
  },
  {
   "cell_type": "markdown",
   "id": "a90e88fc",
   "metadata": {},
   "source": [
    "## 1) Split raw images into train/val sets"
   ]
  },
  {
   "cell_type": "code",
   "execution_count": null,
   "id": "73ce3ed0",
   "metadata": {},
   "outputs": [
    {
     "name": "stdout",
     "output_type": "stream",
     "text": [
      "Copied 32 images to data\\images\\train\n",
      "Copied 8 images to data\\images\\val\n"
     ]
    }
   ],
   "source": [
    "\n",
    "from glob import glob\n",
    "from pathlib import Path\n",
    "import shutil, random\n",
    "\n",
    "# Choose split ratio\n",
    "VAL_RATIO = 0.2\n",
    "\n",
    "all_imgs = []\n",
    "for ext in (\"*.jpg\",\"*.jpeg\",\"*.png\",\"*.bmp\",\"*.tif\",\"*.tiff\"):\n",
    "    all_imgs += list(RAW_IMAGES_DIR.rglob(ext))\n",
    "\n",
    "random.shuffle(all_imgs)\n",
    "val_count = int(len(all_imgs) * VAL_RATIO)\n",
    "val_imgs = set(all_imgs[:val_count])\n",
    "train_imgs = all_imgs[val_count:]\n",
    "\n",
    "def copy_to(srcs, dest_dir: Path):\n",
    "    for p in srcs:\n",
    "        dest = dest_dir / p.name\n",
    "        if dest.resolve() != p.resolve():\n",
    "            shutil.copy2(p, dest)\n",
    "\n",
    "copy_to(train_imgs, IMAGES_TRAIN)\n",
    "copy_to(val_imgs, IMAGES_VAL)\n",
    "\n",
    "print(f\"Copied {len(train_imgs)} images to {IMAGES_TRAIN}\")\n",
    "print(f\"Copied {len(val_imgs)} images to {IMAGES_VAL}\")"
   ]
  },
  {
   "cell_type": "markdown",
   "id": "ba629bc4",
   "metadata": {},
   "source": [
    "## 2) Labelling Images"
   ]
  },
  {
   "cell_type": "markdown",
   "id": "571b009f",
   "metadata": {},
   "source": [
    "### A) Manual Labeling with `labelImg`"
   ]
  },
  {
   "cell_type": "code",
   "execution_count": 4,
   "id": "4d36426f",
   "metadata": {},
   "outputs": [
    {
     "name": "stdout",
     "output_type": "stream",
     "text": [
      "Requirement already satisfied: pyqt5 in e:\\my_project\\object detection\\venv\\lib\\site-packages (5.15.11)\n",
      "Requirement already satisfied: lxml in e:\\my_project\\object detection\\venv\\lib\\site-packages (6.0.0)\n",
      "Requirement already satisfied: PyQt5-sip<13,>=12.15 in e:\\my_project\\object detection\\venv\\lib\\site-packages (from pyqt5) (12.17.0)\n",
      "Requirement already satisfied: PyQt5-Qt5<5.16.0,>=5.15.2 in e:\\my_project\\object detection\\venv\\lib\\site-packages (from pyqt5) (5.15.2)\n"
     ]
    },
    {
     "name": "stderr",
     "output_type": "stream",
     "text": [
      "A subdirectory or file labelImg already exists.\n",
      "fatal: destination path 'labelImg' already exists and is not an empty directory.\n"
     ]
    }
   ],
   "source": [
    "!pip install --upgrade pyqt5 lxml\n",
    "!mkdir labelImg\n",
    "!git clone https://github.com/tzutalin/labelImg labelImg\n",
    "!cd labelImg && pyrcc5 -o libs/resources.py resources.qrc"
   ]
  },
  {
   "cell_type": "code",
   "execution_count": 5,
   "id": "bb40fcb8",
   "metadata": {},
   "outputs": [],
   "source": [
    "!cd labelImg && python labelImg.py"
   ]
  },
  {
   "cell_type": "markdown",
   "id": "b6e480e8",
   "metadata": {},
   "source": [
    "### B) Assisted Labeling with `yolov8n`\n",
    "\n",
    "This is useful if your objects overlap with **COCO classes** (e.g., person, car, dog...).  \n",
    "We will run `yolov8n.pt` to **auto‑annotate** an images, filter to your target classes if they exist in COCO."
   ]
  },
  {
   "cell_type": "code",
   "execution_count": null,
   "id": "e75f031e",
   "metadata": {},
   "outputs": [
    {
     "name": "stdout",
     "output_type": "stream",
     "text": [
      "Will pseudo-label these classes (present in COCO): ['person', 'car', 'bicycle', 'airplane', 'dog', 'chair', 'bus']\n",
      "Predicting on train (38 images)\n",
      "Done: train\n",
      "Predicting on val (14 images)\n",
      "Done: val\n",
      "Pseudo-labels written. Open labelImg to **review and correct** them.\n"
     ]
    }
   ],
   "source": [
    "\n",
    "# Only run this if your target classes are in COCO (or you want a starting point to correct).\n",
    "from ultralytics import YOLO\n",
    "import cv2, json\n",
    "\n",
    "# COCO class names used by yolov8n.pt\n",
    "COCO_NAMES = [\n",
    "    'person','bicycle','car','motorcycle','airplane','bus','train','truck','boat','traffic light',\n",
    "    'fire hydrant','stop sign','parking meter','bench','bird','cat','dog','horse','sheep','cow',\n",
    "    'elephant','bear','zebra','giraffe','backpack','umbrella','handbag','tie','suitcase','frisbee',\n",
    "    'skis','snowboard','sports ball','kite','baseball bat','baseball glove','skateboard','surfboard',\n",
    "    'tennis racket','bottle','wine glass','cup','fork','knife','spoon','bowl','banana','apple',\n",
    "    'sandwich','orange','broccoli','carrot','hot dog','pizza','donut','cake','chair','couch',\n",
    "    'potted plant','bed','dining table','toilet','tv','laptop','mouse','remote','keyboard','cell phone',\n",
    "    'microwave','oven','toaster','sink','refrigerator','book','clock','vase','scissors','teddy bear',\n",
    "    'hair drier','toothbrush'\n",
    "]\n",
    "\n",
    "# Map your NAMES to COCO ids if they exist\n",
    "name_to_coco = {n:i for i,n in enumerate(COCO_NAMES)}\n",
    "valid_targets = [n for n in NAMES if n in name_to_coco]\n",
    "print(\"Will pseudo-label these classes (present in COCO):\", valid_targets)\n",
    "\n",
    "if len(valid_targets) == 0:\n",
    "    print(\"None of your classes are in COCO; skip pseudo-labeling and use manual labeling.\")\n",
    "else:\n",
    "    model = YOLO(\"yolov8n.pt\")  # downloads if missing\n",
    "\n",
    "    def run_pseudo_for_split(split):\n",
    "        img_dir = (DATA_ROOT/\"images\"/split)\n",
    "        lbl_dir = (DATA_ROOT/\"labels\"/split)\n",
    "        lbl_dir.mkdir(parents=True, exist_ok=True)\n",
    "        img_paths = list(img_dir.glob(\"*.*\"))\n",
    "        print(f\"Predicting on {split} ({len(img_paths)} images)\")\n",
    "        res = model.predict(source=str(img_dir), save=False, conf=0.25, iou=0.45, imgsz=640, verbose=False)\n",
    "        # res is a list of Results per image\n",
    "        for r in res:\n",
    "            p = Path(r.path)  # image path\n",
    "            boxes = r.boxes\n",
    "            lines = []\n",
    "            if boxes is not None and len(boxes) > 0:\n",
    "                for b in boxes:\n",
    "                    cls = int(b.cls.item())\n",
    "                    cls_name = COCO_NAMES[cls]\n",
    "                    if cls_name not in valid_targets:\n",
    "                        continue  # skip classes you don't want\n",
    "                    # convert xyxy (absolute) to YOLO normalized\n",
    "                    xyxy = b.xyxy[0].tolist()\n",
    "                    # image size (from r.orig_shape: (h, w))\n",
    "                    h, w = r.orig_shape\n",
    "                    x1, y1, x2, y2 = xyxy\n",
    "                    xc = ((x1 + x2)/2.0) / w\n",
    "                    yc = ((y1 + y2)/2.0) / h\n",
    "                    bw = (x2 - x1) / w\n",
    "                    bh = (y2 - y1) / h\n",
    "                    # remap class index into your NAMES list\n",
    "                    out_cid = NAMES.index(cls_name)\n",
    "                    lines.append(f\"{out_cid} {xc:.6f} {yc:.6f} {bw:.6f} {bh:.6f}\")\n",
    "            # Write label file (even if empty so you know to check it)\n",
    "            out_txt = lbl_dir / (p.stem + \".txt\")\n",
    "            with open(out_txt, \"w\") as f:\n",
    "                f.write(\"\\n\".join(lines))\n",
    "        print(\"Done:\", split)\n",
    "\n",
    "    run_pseudo_for_split(\"train\")\n",
    "    run_pseudo_for_split(\"val\")"
   ]
  },
  {
   "cell_type": "markdown",
   "id": "39a7a4e0",
   "metadata": {},
   "source": [
    "## 3) Write a `data.yaml` for training later"
   ]
  },
  {
   "cell_type": "code",
   "execution_count": null,
   "id": "9004e2e7",
   "metadata": {},
   "outputs": [],
   "source": [
    "data_yaml = {\n",
    "    \"path\": str(DATA_ROOT.resolve()),\n",
    "    \"train\": str((DATA_ROOT/\"images\"/\"train\").resolve()),\n",
    "    \"val\":   str((DATA_ROOT/\"images\"/\"val\").resolve()),\n",
    "    \"names\": NAMES,\n",
    "    \"nc\": len(NAMES),\n",
    "}\n",
    "yaml_path = Path(\"configs\"); yaml_path.mkdir(parents=True, exist_ok=True)\n",
    "yaml_file = yaml_path / \"data.yaml\"\n",
    "with open(yaml_file, \"w\") as f:\n",
    "    yaml.safe_dump(data_yaml, f, sort_keys=False)\n",
    "print(\"Wrote\", yaml_file.resolve())\n",
    "print(yaml.safe_dump(data_yaml, sort_keys=False))"
   ]
  },
  {
   "cell_type": "code",
   "execution_count": 1,
   "id": "8891a8ac",
   "metadata": {},
   "outputs": [
    {
     "name": "stderr",
     "output_type": "stream",
     "text": [
      "'ffmpeg' is not recognized as an internal or external command,\n",
      "operable program or batch file.\n"
     ]
    }
   ],
   "source": [
    "!ffmpeg -i \"E:/my_project/Object Detection/runs/detect/predict/video.avi\" -vf \"fps=10,scale=480:-1:flags=lanczos\" demo.gif\n"
   ]
  }
 ],
 "metadata": {
  "kernelspec": {
   "display_name": "venv",
   "language": "python",
   "name": "python3"
  },
  "language_info": {
   "codemirror_mode": {
    "name": "ipython",
    "version": 3
   },
   "file_extension": ".py",
   "mimetype": "text/x-python",
   "name": "python",
   "nbconvert_exporter": "python",
   "pygments_lexer": "ipython3",
   "version": "3.10.0"
  }
 },
 "nbformat": 4,
 "nbformat_minor": 5
}
